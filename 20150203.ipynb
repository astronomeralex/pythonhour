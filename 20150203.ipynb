{
 "metadata": {
  "name": "",
  "signature": "sha256:bea9424a748a9e7c1ba3da2f01c841c8bd679a3d3a91f9bb268329ca84f1fc5f"
 },
 "nbformat": 3,
 "nbformat_minor": 0,
 "worksheets": [
  {
   "cells": [
    {
     "cell_type": "heading",
     "level": 1,
     "metadata": {},
     "source": [
      "Wright group's first Python Hour!"
     ]
    },
    {
     "cell_type": "markdown",
     "metadata": {},
     "source": [
      "## Installing Python\n",
      "\n",
      "It is recommended that you install [anaconda](https://store.continuum.io/cshop/anaconda/), which includes Python 3.4 and many commonly used packages including astropy.\n",
      "\n",
      "*__Important__*: Get Python 3.4! The default anaconda installation page gives you 2.7. Look upper right for Python 3.4.\n",
      "\n",
      "After installation, add the following path to your c-shell or bach PATH:\n",
      "```bash\n",
      "<your anaconda installation path>/bin/\n",
      "```\n",
      "\n",
      "Then if you type in command line: \n",
      "`which python`, \n",
      "It should points to the python within the anaconda package.\n",
      "\n",
      "** Installing Anaconda on Department Machines (i.e. no root privilege) **:\n",
      "Installing anaconda requires no root privilege. It is essentially unzip the thing and add the `/bin/` subdirectory to your PATH. Enjoy ;) "
     ]
    },
    {
     "cell_type": "markdown",
     "metadata": {},
     "source": [
      "## Python Tutorials and Documentations\n",
      "\n",
      "* Basic Python tutorials (might be too easy?):\n",
      "\n",
      "    [Codecademy](http://www.codecademy.com/)\n",
      "\n",
      "    [Learn Python the Hard Way](http://learnpythonthehardway.org/book/)\n",
      "    \n",
      "\n",
      "* Recommended reading of Python documentations:\n",
      "\n",
      "    [Python 3 documentation](https://docs.python.org/3.0/index.html)\n",
      "\n",
      "    [Numpy Tutorial](http://wiki.scipy.org/Tentative_NumPy_Tutorial)\n",
      "    (because numpy is essential for scientific computing)\n",
      "\n",
      "    [Python style guide](https://www.python.org/dev/peps/pep-0008/)\n",
      "    (so that your code is readable to others)\n",
      "    \n",
      "\n",
      "* Good compilation of materials related to using Python for Astronomy:\n",
      "\n",
      "    [AstroBetter Python Wiki](http://www.astrobetter.com/wiki/tiki-index.php?page=python)\n",
      "    \n",
      "\n",
      "* Useful tutorial, consult as needed:\n",
      "\n",
      "    [Matplotlib](http://matplotlib.org/index.html)\n",
      "    (in particular, the [gallery/example page](http://matplotlib.org/gallery.html#), click on plots to see example codes)\n",
      "    \n",
      "    \n",
      "P.S. For editing ipython notebook with Markdown, here's a [Markdown cheatsheet](https://github.com/adam-p/markdown-here/wiki/Markdown-Cheatsheet).\n"
     ]
    },
    {
     "cell_type": "markdown",
     "metadata": {},
     "source": [
      "## Formatted Printing in Python"
     ]
    },
    {
     "cell_type": "code",
     "collapsed": false,
     "input": [
      "# Method 1: (this is how you do inline comment: begin with # sign)\n",
      "\"\"\"\n",
      "(This is also an example of block comment)\n",
      "what's being printed is the stuff inside format(); inside {} is the index. \n",
      "Array must be referenced with a * at the beginning.\n",
      "After index, add a : following by C style formating code such as 12.4f.\n",
      "\"\"\"\n",
      "foo = (1,2,3)\n",
      "print(\"{2:12.4f} {1:3f} {0:3.1f}\".format(*foo)) "
     ],
     "language": "python",
     "metadata": {},
     "outputs": [
      {
       "output_type": "stream",
       "stream": "stdout",
       "text": [
        "      3.0000 2.000000 1.0\n"
       ]
      }
     ],
     "prompt_number": 6
    },
    {
     "cell_type": "code",
     "collapsed": false,
     "input": [
      "# Method 2:\n",
      "foo = (2, 'hi') # a typical python mixed type list\n",
      "print( \" %5.3f, %4s \" % foo )"
     ],
     "language": "python",
     "metadata": {},
     "outputs": [
      {
       "output_type": "stream",
       "stream": "stdout",
       "text": [
        " 2.000,   hi \n"
       ]
      }
     ],
     "prompt_number": 7
    },
    {
     "cell_type": "markdown",
     "metadata": {},
     "source": [
      "## Quick Crash Course on Numpy Arrays"
     ]
    },
    {
     "cell_type": "code",
     "collapsed": false,
     "input": [
      "import numpy as np"
     ],
     "language": "python",
     "metadata": {},
     "outputs": [],
     "prompt_number": 8
    },
    {
     "cell_type": "code",
     "collapsed": false,
     "input": [
      "# initialize a numpy array with a list:\n",
      "a = np.array([1,2,3]) \n",
      "#b = np.array(1,2,3) # this would not work"
     ],
     "language": "python",
     "metadata": {},
     "outputs": [],
     "prompt_number": 9
    },
    {
     "cell_type": "code",
     "collapsed": false,
     "input": [
      "b = [1,2,3]\n",
      "c = np.array(b) # another way to initialize array\n",
      "print(b,c) # print out of list and array are different"
     ],
     "language": "python",
     "metadata": {},
     "outputs": [
      {
       "output_type": "stream",
       "stream": "stdout",
       "text": [
        "[1, 2, 3] [1 2 3]\n"
       ]
      }
     ],
     "prompt_number": 10
    },
    {
     "cell_type": "code",
     "collapsed": false,
     "input": [
      "# No Copy! Only shallow copy in python\n",
      "d = a # d is a shallow copy of a\n",
      "d[0] = 9 \n",
      "print(d,a) # they are the same"
     ],
     "language": "python",
     "metadata": {},
     "outputs": [
      {
       "output_type": "stream",
       "stream": "stdout",
       "text": [
        "[9 2 3] [9 2 3]\n"
       ]
      }
     ],
     "prompt_number": 11
    },
    {
     "cell_type": "code",
     "collapsed": false,
     "input": [
      "# Deep copy\n",
      "d = np.array(a) # for array etc. you can do deep copy by initialize new object with old\n",
      "import copy\n",
      "d = copy.deepcopy(a) # for any data type\n",
      "d[0] = 11\n",
      "print(d,a) # now they are different"
     ],
     "language": "python",
     "metadata": {},
     "outputs": [
      {
       "output_type": "stream",
       "stream": "stdout",
       "text": [
        "[11  2  3] [9 2 3]\n"
       ]
      }
     ],
     "prompt_number": 13
    },
    {
     "cell_type": "code",
     "collapsed": false,
     "input": [
      "# \"adding\" list and adding numpy array\n",
      "c = [4,5,6]\n",
      "print(b+c) # adding lists, actually concatenation\n",
      "print(a+d) # adding arrays\n",
      "print(a+b) # a is array, b is list => numerical addition"
     ],
     "language": "python",
     "metadata": {},
     "outputs": [
      {
       "output_type": "stream",
       "stream": "stdout",
       "text": [
        "[1, 2, 3, 4, 5, 6]\n",
        "[20  4  6]\n",
        "[10  4  6]\n"
       ]
      }
     ],
     "prompt_number": 15
    },
    {
     "cell_type": "code",
     "collapsed": false,
     "input": [
      "# working with 2-D arrays\n",
      "e = np.array([a,b]) # 2-D\n",
      "f = np.array([[a],[b]]) # 3-D\n",
      "print(e)\n",
      "print(f)\n",
      "# remember, python is an object-oriented language, everything is an object and has attributes\n",
      "print('Dimentions of e and f:')\n",
      "print(e.ndim,f.ndim)\n",
      "print(\"And I don't care about single or double quotes as long as the mix'n is right.\")"
     ],
     "language": "python",
     "metadata": {},
     "outputs": [
      {
       "output_type": "stream",
       "stream": "stdout",
       "text": [
        "[[9 2 3]\n",
        " [1 2 3]] [[[9 2 3]]\n",
        "\n",
        " [[1 2 3]]]\n",
        "Dimentions of e and f:\n",
        "2 3\n",
        "And I don't care about single or double quotes as long as the mix'n is right.\n"
       ]
      }
     ],
     "prompt_number": 21
    },
    {
     "cell_type": "markdown",
     "metadata": {},
     "source": [
      "## Static Members of a Class\n",
      "\n",
      "Python really don't have static members... It is not static in the sense of C/Java.\n",
      "A good summary of static variable and static methods can be found in [here](http://broken.build/2011/07/21/static-variables-and-methods-in-python/)."
     ]
    },
    {
     "cell_type": "code",
     "collapsed": false,
     "input": [
      "class MyFirstClass:\n",
      "    # by convention class name starts with capital letter\n",
      "    # Yes it's all case sensitive!!!\n",
      "    myConst = 1.0     # \"static member\", but you can still modify this, actually\n",
      "    _realConst = 4.0  # by convention nobody touches this!\n",
      "    \n",
      "    def __init__(self):\n",
      "        # class methods by default have their first variable being the object itself \n",
      "        # you don't have to name it 'self', but it'll make your code more readable\n",
      "        self.myVar = 2.0\n",
      "        \n",
      "    def myMethod(self, const=myConst):\n",
      "        self.myConst = const\n",
      "        print('myConst = ',self.myConst)\n",
      "        \n",
      "class MySecondClass(MyFirstClass):\n",
      "    # inherites the class above\n",
      "    myConst2 = 9.0\n",
      "    \n",
      "    def myMethod(self,const=myConst2):\n",
      "        self.myConst = const\n",
      "        print('myConst = ',self.myConst)\n",
      "        print('myConst2 = ',self.myConst2)\n",
      "        \n",
      "foo = MyFirstClass()\n",
      "dum = MySecondClass()\n",
      "foo.myMethod()\n",
      "print()\n",
      "foo.myMethod(1.1) # you can change it \n",
      "dum.myMethod(9.9) # even in inheritated class object!\n",
      "print()\n",
      "# a more \"static\" way to call these variables:\n",
      "print(MyFirstClass.myConst)\n",
      "print(MySecondClass.myConst)\n",
      "print(MySecondClass.myConst2)\n",
      "print()\n",
      "# You can change static member of class!\n",
      "MySecondClass.myConst = 3.0 \n",
      "print(MyFirstClass.myConst)\n",
      "print(MySecondClass.myConst)\n",
      "print()\n",
      "# Things don't propagate upwards NOR downwards along the inheritance tree!\n",
      "MyFirstClass.myConst = 6.0\n",
      "print(MyFirstClass.myConst)\n",
      "print(MySecondClass.myConst)\n",
      "print()\n",
      "# but these below will not be affected since you initialized them before you change the class\n",
      "print(foo.myConst)\n",
      "print(dum.myConst)"
     ],
     "language": "python",
     "metadata": {},
     "outputs": [
      {
       "output_type": "stream",
       "stream": "stdout",
       "text": [
        "myConst =  1.0\n",
        "\n",
        "myConst =  1.1\n",
        "myConst =  9.9\n",
        "myConst2 =  9.0\n",
        "\n",
        "1.0\n",
        "1.0\n",
        "9.0\n",
        "\n",
        "1.0\n",
        "3.0\n",
        "\n",
        "6.0\n",
        "3.0\n",
        "\n",
        "1.1\n",
        "9.9\n"
       ]
      }
     ],
     "prompt_number": 38
    },
    {
     "cell_type": "code",
     "collapsed": false,
     "input": [],
     "language": "python",
     "metadata": {},
     "outputs": []
    }
   ],
   "metadata": {}
  }
 ]
}